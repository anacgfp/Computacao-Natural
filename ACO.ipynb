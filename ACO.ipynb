{
  "nbformat": 4,
  "nbformat_minor": 0,
  "metadata": {
    "colab": {
      "name": "ACO_acgfp.ipynb",
      "provenance": [],
      "collapsed_sections": []
    },
    "kernelspec": {
      "name": "python3",
      "display_name": "Python 3"
    }
  },
  "cells": [
    {
      "cell_type": "markdown",
      "metadata": {
        "id": "s8c8YErhH0QX"
      },
      "source": [
        "**Ant Colony Optimization - Computação Natural 2020.3**\n",
        "\n",
        "Por: Ana Catarina Gomes da Fonseca Pereira"
      ]
    },
    {
      "cell_type": "code",
      "metadata": {
        "id": "HrMAcEgPKqgY"
      },
      "source": [
        "c = [\n",
        "[6734, 1453],\n",
        "[2233, 10],\n",
        "[5530, 1424],\n",
        "[401, 841],\n",
        "[3082, 1644],\n",
        "[7608, 4458],\n",
        "[7573, 3716],\n",
        "[7265, 1268],\n",
        "[6898, 1885],\n",
        "[1112, 2049],\n",
        "[5468, 2606],\n",
        "[5989, 2873],\n",
        "[4706, 2674],\n",
        "[4612, 2035],\n",
        "[6347, 2683],\n",
        "[6107, 669],\n",
        "[7611, 5184],\n",
        "[7462, 3590],\n",
        "[7732, 4723],\n",
        "[5900, 3561],\n",
        "[4483, 3369],\n",
        "[6101, 1110],\n",
        "[5199, 2182],\n",
        "[1633, 2809],\n",
        "[4307, 2322],\n",
        "[675, 1006],\n",
        "[7555, 4819],\n",
        "[7541, 3981],\n",
        "[3177,756],\n",
        "[7352, 4506],\n",
        "[7545, 2801],\n",
        "[3245, 3305],\n",
        "[6426, 3173],\n",
        "[4608, 1198],\n",
        "[23, 2216],\n",
        "[7248, 3779],\n",
        "[7762, 4595],\n",
        "[7392, 2244],\n",
        "[3484, 2829],\n",
        "[6271, 2135],\n",
        "[4985, 140],\n",
        "[1916, 1569],\n",
        "[7280, 4899],\n",
        "[7509, 3239],\n",
        "[10, 2676],\n",
        "[6807, 2993],\n",
        "[5185, 3258],\n",
        "[3023, 1942]\n",
        "]\n"
      ],
      "execution_count": null,
      "outputs": []
    },
    {
      "cell_type": "code",
      "metadata": {
        "id": "6kday--zthud"
      },
      "source": [
        "import matplotlib.pyplot as plt\n",
        "\n",
        "#PARÂMETROS\n",
        "\n",
        "alfa = 0.5\n",
        "beta = 0.7 \n",
        "p = 0.25\n",
        "t_max = 0.8\n",
        "t_min = 0.2\n",
        "MAX_IT = 1000\n",
        "initial_value = 0.00005\n",
        "NUM_FORMIGAS = 30\n",
        "EXECUCOES = 30\n",
        "\n",
        "#Cidades\n",
        "cidades = c\n",
        "N_CIDADES = len(cidades)"
      ],
      "execution_count": null,
      "outputs": []
    },
    {
      "cell_type": "code",
      "metadata": {
        "id": "CzJjyzwEK3Jh"
      },
      "source": [
        "import math\n",
        "#Calcula a distância das cidades apenas uma vez\n",
        "\n",
        "def calcular_dist(cidades):\n",
        "  matriz_cid = [] #Matriz N x N de cidades\n",
        "  for i in range(0, N_CIDADES):\n",
        "    for j in range(0, N_CIDADES):\n",
        "      dist = math.sqrt(math.pow(cidades[i][0] - cidades[j][0], 2) + math.pow(cidades[i][1] - cidades[j][1], 2))\n",
        "      matriz_cid.append(dist)\n",
        "  return matriz_cid"
      ],
      "execution_count": null,
      "outputs": []
    },
    {
      "cell_type": "code",
      "metadata": {
        "id": "6_2ZGN--0r9B"
      },
      "source": [
        "#Define o feromonio inicial\n",
        "def init_phero(phero):\n",
        "  for i in range(0, N_CIDADES * N_CIDADES):\n",
        "    phero.append(initial_value)\n",
        "  return phero\n",
        "\n",
        "def evap_phero(phero):\n",
        "  for i in range(0, N_CIDADES * N_CIDADES):\n",
        "    phero[i] *= (1-p)\n",
        "  return phero\n",
        "\n",
        "def get_distance(solution, matriz_distancias):\n",
        "  distance = 0\n",
        "  # print(solution, '\\n', matriz_distancias)\n",
        "  for i in range(N_CIDADES):\n",
        "    if i == N_CIDADES -1:\n",
        "      distance += matriz_distancias[solution[i] * N_CIDADES + 0]\n",
        "    else:\n",
        "      distance += matriz_distancias[solution[i] * N_CIDADES + solution[i+1]]\n",
        "    # print(distance, '\\n ',i)\n",
        "  return distance\n",
        "\n",
        "def depo_phero(solution, phero, matriz_distancias):\n",
        "  f = 1/get_distance(solution, matriz_distancias)\n",
        "  for i in range(0, N_CIDADES):\n",
        "    if i == N_CIDADES -1:\n",
        "      phero[(solution[i] * N_CIDADES +  solution[0])] += f\n",
        "      phero[(solution[0] * N_CIDADES +  solution[i])] += f\n",
        "    else:     \n",
        "      phero[(solution[i] * N_CIDADES +  solution[i+1])] += f\n",
        "      phero[(solution[i+1] * N_CIDADES +  solution[i])] += f\n",
        "  return phero\n"
      ],
      "execution_count": null,
      "outputs": []
    },
    {
      "cell_type": "code",
      "metadata": {
        "id": "RGkr0zbTvPk5"
      },
      "source": [
        "import random\n",
        "\n",
        "def build_solution(matriz_distancias, phero, cid_list):\n",
        "  solution = []\n",
        "  initial_city = random.randint(0, N_CIDADES - 1)\n",
        "  solution.append(initial_city)\n",
        "  while len(solution) < N_CIDADES:\n",
        "    prob = []\n",
        "    for i in range(0, N_CIDADES):\n",
        "      if i not in solution:\n",
        "        last_city = solution[-1]\n",
        "        prob.append(((1/matriz_distancias[(last_city * N_CIDADES + i)]) ** alfa) * (phero[last_city * N_CIDADES + i] ** beta))\n",
        "      else:\n",
        "        prob.append(0)\n",
        "    soma = sum(prob)\n",
        "    for i in range(0, N_CIDADES):\n",
        "      prob[i] = prob[i] / soma\n",
        "    solution.append(random.choices(cid_list, weights=prob, k=1)[0])\n",
        "  return solution"
      ],
      "execution_count": null,
      "outputs": []
    },
    {
      "cell_type": "code",
      "metadata": {
        "id": "HK3ndDuotDzB"
      },
      "source": [
        "def aco():\n",
        "  #cidades:\n",
        "\n",
        "  cid_list = [i for i in range(0, N_CIDADES)] #lista só de indices\n",
        "  matriz_distancias = calcular_dist(cidades)\n",
        "  # print(matriz_distancias)\n",
        "  #pheromonio\n",
        "  phero = []\n",
        "  phero = init_phero(phero)\n",
        "  best = 99999999\n",
        "  for i in range(MAX_IT):\n",
        "    #solucoes\n",
        "    solutions = []\n",
        "    for formiga in range(NUM_FORMIGAS):\n",
        "      solutions.append(build_solution(matriz_distancias, phero, cid_list))\n",
        "    # print(solutions)\n",
        "    #Phero \n",
        "    phero = evap_phero(phero)\n",
        "    for formiga in range(NUM_FORMIGAS):\n",
        "      phero = depo_phero(solutions[formiga], phero, matriz_distancias)\n",
        "    for formiga in range(NUM_FORMIGAS):\n",
        "      dist = get_distance(solutions[formiga], matriz_distancias)\n",
        "      # print(formiga, dist)\n",
        "      if dist < best:\n",
        "        best = dist\n",
        "    # print('IT: ', i, 'Best: ', best)\n",
        "  return best"
      ],
      "execution_count": null,
      "outputs": []
    },
    {
      "cell_type": "code",
      "metadata": {
        "id": "zjy7TxTus7ff"
      },
      "source": [
        "def print_results(dados):\n",
        "  print('melhor: ',min(dados))\n",
        "  print('media: ', sum(dados)/len(dados))\n",
        "  plt.boxplot(dados)\n",
        "  plt.show()"
      ],
      "execution_count": null,
      "outputs": []
    },
    {
      "cell_type": "code",
      "metadata": {
        "id": "5F4IfzGFmCBl"
      },
      "source": [
        "dados = []\n",
        "for i in range(EXECUCOES):\n",
        "  dados.append(aco())\n",
        "\n",
        "print_results(dados)"
      ],
      "execution_count": null,
      "outputs": []
    },
    {
      "cell_type": "code",
      "metadata": {
        "id": "Tly7fxnkng38"
      },
      "source": [
        "def aco_max_min_system():\n",
        "  #cidades:\n",
        "\n",
        "  cid_list = [i for i in range(0, N_CIDADES)] #lista só de indices\n",
        "  matriz_distancias = calcular_dist(cidades)\n",
        "  # print(matriz_distancias)\n",
        "  #pheromonio\n",
        "  phero = []\n",
        "  phero = init_phero(phero)\n",
        "  best = 99999999\n",
        "  for i in range(MAX_IT):\n",
        "    #solucoes\n",
        "    solutions = []\n",
        "    for formiga in range(NUM_FORMIGAS):\n",
        "      solutions.append(build_solution(matriz_distancias, phero, cid_list))\n",
        "    # print(solutions)\n",
        "    #Phero \n",
        "    phero = evap_phero(phero)\n",
        "    #Diferenca apenas no deposito do phero\n",
        "    lista_dist = []\n",
        "    for formiga in range(NUM_FORMIGAS):\n",
        "      dist = get_distance(solutions[formiga], matriz_distancias)\n",
        "      lista_dist.append(dist) #salva as distancias\n",
        "      if dist < best:\n",
        "        best = dist\n",
        "    #deposita apenas na melhor\n",
        "    for formiga in range(NUM_FORMIGAS):\n",
        "      if lista_dist[formiga] == best:\n",
        "        phero = depo_phero(solutions[formiga], phero, matriz_distancias)      \n",
        "  return best"
      ],
      "execution_count": null,
      "outputs": []
    },
    {
      "cell_type": "code",
      "metadata": {
        "id": "6hU-h7PQrxI3"
      },
      "source": [
        "dados_max = []\n",
        "for i in range(EXECUCOES):\n",
        "  dados_max.append(aco())"
      ],
      "execution_count": null,
      "outputs": []
    },
    {
      "cell_type": "code",
      "metadata": {
        "id": "V1t0f3am0o6i",
        "colab": {
          "base_uri": "https://localhost:8080/",
          "height": 301
        },
        "outputId": "74c13d59-531a-4af0-a703-85563e9fe3b2"
      },
      "source": [
        "print_results(dados_max)"
      ],
      "execution_count": null,
      "outputs": [
        {
          "output_type": "stream",
          "text": [
            "melhor:  56357.29977911417\n",
            "media:  58826.23302749084\n"
          ],
          "name": "stdout"
        },
        {
          "output_type": "display_data",
          "data": {
            "image/png": "[encoded data removed]",
            "text/plain": [
              "<Figure size 432x288 with 1 Axes>"
            ]
          },
          "metadata": {
            "tags": [],
            "needs_background": "light"
          }
        }
      ]
    }
  ]
}