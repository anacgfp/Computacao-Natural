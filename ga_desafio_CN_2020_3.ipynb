{
  "nbformat": 4,
  "nbformat_minor": 0,
  "metadata": {
    "colab": {
      "name": "ga_desafio_CN_2020_3.ipynb",
      "provenance": [],
      "collapsed_sections": [],
      "authorship_tag": "ABX9TyPXablenBALHeS0XzVlsph6",
      "include_colab_link": true
    },
    "kernelspec": {
      "name": "python3",
      "display_name": "Python 3"
    }
  },
  "cells": [
    {
      "cell_type": "markdown",
      "metadata": {
        "id": "view-in-github",
        "colab_type": "text"
      },
      "source": [
        "<a href=\"https://colab.research.google.com/github/anacgfp/Computacao-Natural/blob/master/ga_desafio_CN_2020_3.ipynb\" target=\"_parent\"><img src=\"https://colab.research.google.com/assets/colab-badge.svg\" alt=\"Open In Colab\"/></a>"
      ]
    },
    {
      "cell_type": "markdown",
      "metadata": {
        "id": "18fxOi16KCJp"
      },
      "source": [
        "Você deverá construir um modelo, utilizando Algoritmo Genético, para resolver a demanda de entregas das Lojas do Recife. Porém, este seu modelo deve seguir a lógica do Problema do Caixeiro Viajante (PCV), onde é preciso determinar a menor rota para percorrer uma série de cidades (visitando uma única vez cada uma delas), e retornar à cidade de origem.\n",
        "\n",
        "**Considerações**\n",
        "\n",
        "\n",
        "\n",
        "1.   A função de aptidão (fitness) será 1 / d, onde “d” é a distância total percorrida.\n",
        "2.   A distância pode ser calculada usando a distância euclidiana entre as cidades.\n",
        "3.   A sua solução deve sempre gerar rotas sintaticamente corretas, isto é, as rotas devem visitar cada cidade apenas uma vez, retornando à cidade de origem.\n",
        "\n",
        "\n",
        "\n",
        "**Entrega**\n",
        "\n",
        "Você deverá entregar um relatório contendo:\n",
        "1. Comparação entre os resultados obtidos pelos diferentes métodos de seleção (roleta, torneio e elitismo);\n",
        "2. Validar ao menos dois operadores de crossover e comentar seus resultados;\n",
        "3. Validar ao menos dois operadores de mutação e comentar seus resultados;\n",
        "4. Exibir a Rota Final\n"
      ]
    },
    {
      "cell_type": "code",
      "metadata": {
        "id": "geE4xWsKKo0a"
      },
      "source": [
        "import pandas as pd\n",
        "import numpy as np\n",
        "import math\n",
        "import matplotlib as mplib\n",
        "import random\n",
        "import copy "
      ],
      "execution_count": null,
      "outputs": []
    },
    {
      "cell_type": "code",
      "metadata": {
        "id": "a_RY5JELJqH6"
      },
      "source": [
        "#parameters and constants\n",
        "\n",
        "pop_size = 10\n",
        "pm = 1\n",
        "generations = 10\n",
        "selection_op = 'elitism'\n",
        "crossover_op = 'single point'\n",
        "mutation_op = 'random'"
      ],
      "execution_count": null,
      "outputs": []
    },
    {
      "cell_type": "code",
      "metadata": {
        "id": "Ov6O_UflLYwE"
      },
      "source": [
        "#Problem representation \n",
        "bairros_list = [\"Aflitos\",\n",
        "\"Casa Amarela\",\n",
        "\"Casa Forte\",\n",
        "\"Campo Grande\",\n",
        "\"Boa Viagem\",\n",
        "\"Piedade\",\n",
        "\"Cidade Universitária\",\n",
        "\"Derby\",\n",
        "\"Encruzilhada\",\n",
        "\"Ibura\"]\n",
        "x_list = [50,140,110,30,240,400,330,80,30,280]\n",
        "y_list = [60,78,55,108,378,128,256,15,20,12]"
      ],
      "execution_count": null,
      "outputs": []
    },
    {
      "cell_type": "code",
      "metadata": {
        "id": "bjRHsJwG-zIC"
      },
      "source": [
        "class Bairro:\n",
        "  def __init__(self, nome, x, y):\n",
        "    self.nome = nome\n",
        "    self.x = x\n",
        "    self.y = y\n",
        "\n",
        "#euclidian distance between two neighborhoods\n",
        "  def get_dist(self, bairro):\n",
        "    return math.sqrt((bairro.x - self.x)**2 + (bairro.y - self.y)**2)\n",
        "  \n",
        "  def print_bairro(self):\n",
        "    print(self.nome, ' ', self.x, ' ', self.y)\n",
        "\n",
        "def inicializar_bairros():\n",
        "  bairros = []\n",
        "  for i in range(0, len(bairros_list)):\n",
        "    bairros.append(Bairro(bairros_list[i], x_list[i], y_list[i]))\n",
        "  return bairros\n",
        "\n",
        "BAIRROS = inicializar_bairros()"
      ],
      "execution_count": null,
      "outputs": []
    },
    {
      "cell_type": "code",
      "metadata": {
        "id": "F2aiADQByxmq"
      },
      "source": [
        "class Individual:\n",
        "  def __init__(self, bairros):\n",
        "    self.bairros = bairros\n",
        "    self.fitness = self.get_fitness()\n",
        "\n",
        "  #Calculating the fitness of the the individual (route)\n",
        "  def get_fitness(self):\n",
        "    distance = 0\n",
        "    for i in range(0, len(self.bairros)):\n",
        "      if(i == len(self.bairros) -1):\n",
        "        distance += self.bairros[i].get_dist(self.bairros[0])\n",
        "      else:\n",
        "        distance += self.bairros[i].get_dist(self.bairros[i+1])\n",
        "    return 1/distance\n",
        "\n",
        "  #printing individuals\n",
        "  def print_ind(self):\n",
        "    for i in self.bairros:\n",
        "     i.print_bairro()\n",
        "    \n",
        "  #plotting individuals\n",
        "  def plot_ind(self):\n",
        "    aux_x = []\n",
        "    aux_y = []\n",
        "    for i in self.bairros:\n",
        "      aux_x.append(i.x)\n",
        "      aux_y.append(i.y)\n",
        "    aux_x.append(self.bairros[0].x)\n",
        "    aux_y.append(self.bairros[0].y)\n",
        "    mplib.pyplot.scatter(aux_x, aux_y) \n",
        "    mplib.pyplot.plot(aux_x, aux_y) "
      ],
      "execution_count": null,
      "outputs": []
    },
    {
      "cell_type": "code",
      "metadata": {
        "id": "TVTXGDuFP7QF"
      },
      "source": [
        "#generate the population\n",
        "def init_pop():\n",
        "  pop = []\n",
        "  for _ in range(0, pop_size):\n",
        "    bairros = copy.deepcopy(BAIRROS)\n",
        "    np.random.shuffle(bairros)    \n",
        "    pop.append(Individual(bairros))\n",
        "  return pop\n",
        "\n",
        "class Population:\n",
        "  def __init__(self, pop = init_pop()):\n",
        "    self.pop_size = pop_size\n",
        "    self.pop = pop\n",
        "\n",
        "  def get_best(self):\n",
        "    best_individual = self.pop[0]\n",
        "    for i in self.pop:\n",
        "      if i.get_fitness() > best_individual.get_fitness():\n",
        "        best_individual = i\n",
        "    return best_individual\n",
        "\n",
        "  def print_pop(self):\n",
        "    for i in self.pop:\n",
        "      i.print_ind()\n",
        "      print('------------------------------------------')"
      ],
      "execution_count": null,
      "outputs": []
    },
    {
      "cell_type": "code",
      "metadata": {
        "id": "h_1CIF-gftL4"
      },
      "source": [
        "def get_fitness_list(pop):\n",
        "  fitness_list = []\n",
        "  for i in range(0, len(pop)):\n",
        "    fitness_list.append(pop[i].get_fitness())\n",
        "  return fitness_list\n",
        "\n",
        "\n",
        "def get_prob_distr(pop, fitness_list):\n",
        "  prob_distr = []\n",
        "  a = 0\n",
        "  total_fitness = sum(fitness_list)\n",
        "  for i in fitness_list:\n",
        "    a += i/total_fitness\n",
        "    prob_distr.append(a)\n",
        "  return prob_distr\n",
        "\n",
        "def roulette(population):\n",
        "  prob_distr = get_prob_distr(population, fitness_list = get_fitness_list(population) )\n",
        "  parents = []\n",
        "  n = 0\n",
        "  while n < 2:\n",
        "    r = random.random()\n",
        "    i = 0\n",
        "    while  prob_distr[i] < r:\n",
        "      i += 1\n",
        "    parents.append( population[i])\n",
        "    n += 1\n",
        "  return [parents[0], parents[1]]"
      ],
      "execution_count": null,
      "outputs": []
    },
    {
      "cell_type": "code",
      "metadata": {
        "id": "L1imKjDbqQKJ"
      },
      "source": [
        "def tournament(pop):\n",
        "  k = 10\n",
        "  current_member = 1\n",
        "  mating_pool = []\n",
        "  while current_member <= 2:\n",
        "    new_pop = Population(k, random.sample(pop, k))\n",
        "    best = new_pop.get_best()\n",
        "    mating_pool.append(best)\n",
        "    current_member += 1\n",
        "  return [mating_pool[0], mating_pool[1]]\n",
        "\n",
        "def elitism(population):\n",
        "  mating_pool = population.pop.copy()\n",
        "  mating_pool.remove(population.get_best())\n",
        "  return [mating_pool[0], mating_pool[1]]\n",
        "\n",
        "selection_operator = {\n",
        "    'roulette': roulette,\n",
        "    'tournament': tournament,\n",
        "    'elitism': elitism\n",
        "}"
      ],
      "execution_count": null,
      "outputs": []
    },
    {
      "cell_type": "code",
      "metadata": {
        "id": "mKHirEKrV_JV",
        "outputId": "e084d0b8-7842-43a1-b533-ccf40152bdd1",
        "colab": {
          "base_uri": "https://localhost:8080/",
          "height": 33
        }
      },
      "source": [
        "def ox_crossover(parent1, parent2):\n",
        "  parent1 = parent1.bairros\n",
        "  parent2 = parent2.bairros\n",
        "  #calculate initial index of substring and the size of substring randomly\n",
        "  index = random.randint(0, len(parent1)-1)\n",
        "  size = random.randint(1, 4)\n",
        "  #calculate the random substring\n",
        "  subst = parent1[index: (index+size)]\n",
        "  #create the proto child\n",
        "  proto_child = []\n",
        "  i = 0\n",
        "  while len(proto_child) < index:\n",
        "    if not contains(subst, parent2[i]):\n",
        "      proto_child.append(parent2[i])\n",
        "    i += 1      \n",
        "  for k in subst : \n",
        "    proto_child.append(k)\n",
        "  while len(proto_child) < len(parent2):\n",
        "    if not contains(proto_child, parent2[i]):\n",
        "      proto_child.append(parent2[i])\n",
        "    i += 1\n",
        "  print('2', i, parent2[i].nome)\n",
        "  offspring = Individual(proto_child)\n",
        "  return offspring\n",
        "\n",
        "def contains(lista_de_bairros, b):\n",
        "  for i in lista_de_bairros:\n",
        "    if i.nome == b.nome:\n",
        "      return True\n",
        "  return False\n",
        "\n"
      ],
      "execution_count": null,
      "outputs": [
        {
          "output_type": "stream",
          "text": [
            "[9, 10]\n"
          ],
          "name": "stdout"
        }
      ]
    },
    {
      "cell_type": "code",
      "metadata": {
        "id": "UEh7d2q9WFFF"
      },
      "source": [
        ""
      ],
      "execution_count": null,
      "outputs": []
    },
    {
      "cell_type": "code",
      "metadata": {
        "id": "1v6Do71WXt4J",
        "outputId": "a9fcbf2a-cf25-428e-c28c-b86cad1e7de4",
        "colab": {
          "base_uri": "https://localhost:8080/",
          "height": 1000
        }
      },
      "source": [
        "def ga(selection, crossover, mutation):\n",
        "  population = Population()\n",
        "  best = population.get_best()\n",
        "  g = 0\n",
        "  while g < generations:\n",
        "    aux_pop = []\n",
        "    while len(aux_pop) < 1:\n",
        "      [parent1, parent2] = selection_operator[selection](population.pop)\n",
        "      offspring = crossover_operator[crossover](parent1, parent2)\n",
        "      # print('---------------parent1---------------')\n",
        "      # parent1.print_ind()\n",
        "      # print('--------------------------------------')\n",
        "      # print('---------------parent2---------------')\n",
        "      # parent2.print_ind()\n",
        "      # print('--------------------------------------')\n",
        "      # print('---------------individuo---------------')\n",
        "      # offspring.print_ind()\n",
        "      # print('--------------------------------------')\n",
        "      n = random.random()\n",
        "      if n < pm:\n",
        "        offspring = mutation_operator[mutation](offspring)\n",
        "      aux_pop.append(offspring)\n",
        "    population = Population(aux_pop)\n",
        "    if population.get_best().get_fitness() > best.get_fitness():\n",
        "      best = population.get_best()    \n",
        "    g += 1\n",
        "  return best\n",
        "\n",
        "resultado = ga('roulette', 'ox','insertion')\n",
        "print(1/resultado.get_fitness())\n",
        "resultado.plot_ind()\n"
      ],
      "execution_count": null,
      "outputs": [
        {
          "output_type": "stream",
          "text": [
            "Cidade Universitária\n",
            "Boa Viagem\n",
            "Casa Forte\n",
            "Ibura\n",
            "Derby\n",
            "Encruzilhada\n",
            "Piedade\n",
            "Casa Amarela\n",
            "Campo Grande\n",
            "Casa Forte\n",
            "Aflitos\n",
            "Cidade Universitária\n",
            "Boa Viagem\n",
            "Ibura\n",
            "Derby\n",
            "Casa Amarela\n",
            "Encruzilhada\n",
            "Piedade\n",
            "Casa Forte\n",
            "Aflitos\n",
            "Cidade Universitária\n",
            "Ibura\n",
            "Derby\n",
            "Casa Amarela\n",
            "Encruzilhada\n",
            "Piedade\n",
            "Campo Grande\n",
            "Casa Forte\n",
            "Encruzilhada\n",
            "Aflitos\n",
            "Cidade Universitária\n",
            "Ibura\n",
            "Derby\n",
            "Casa Amarela\n",
            "Piedade\n",
            "Campo Grande\n",
            "Casa Forte\n",
            "Encruzilhada\n",
            "Cidade Universitária\n",
            "Ibura\n",
            "Derby\n",
            "Casa Amarela\n",
            "Piedade\n",
            "Campo Grande\n",
            "Aflitos\n",
            "Casa Forte\n",
            "Encruzilhada\n",
            "Cidade Universitária\n",
            "Ibura\n",
            "Derby\n",
            "Casa Amarela\n",
            "Piedade\n",
            "Aflitos\n",
            "Aflitos\n"
          ],
          "name": "stdout"
        },
        {
          "output_type": "error",
          "ename": "IndexError",
          "evalue": "ignored",
          "traceback": [
            "\u001b[0;31m---------------------------------------------------------------------------\u001b[0m",
            "\u001b[0;31mIndexError\u001b[0m                                Traceback (most recent call last)",
            "\u001b[0;32m<ipython-input-145-7c039e5fe32a>\u001b[0m in \u001b[0;36m<module>\u001b[0;34m()\u001b[0m\n\u001b[1;32m     27\u001b[0m   \u001b[0;32mreturn\u001b[0m \u001b[0mbest\u001b[0m\u001b[0;34m\u001b[0m\u001b[0;34m\u001b[0m\u001b[0m\n\u001b[1;32m     28\u001b[0m \u001b[0;34m\u001b[0m\u001b[0m\n\u001b[0;32m---> 29\u001b[0;31m \u001b[0mresultado\u001b[0m \u001b[0;34m=\u001b[0m \u001b[0mga\u001b[0m\u001b[0;34m(\u001b[0m\u001b[0;34m'roulette'\u001b[0m\u001b[0;34m,\u001b[0m \u001b[0;34m'ox'\u001b[0m\u001b[0;34m,\u001b[0m\u001b[0;34m'insertion'\u001b[0m\u001b[0;34m)\u001b[0m\u001b[0;34m\u001b[0m\u001b[0;34m\u001b[0m\u001b[0m\n\u001b[0m\u001b[1;32m     30\u001b[0m \u001b[0mprint\u001b[0m\u001b[0;34m(\u001b[0m\u001b[0;36m1\u001b[0m\u001b[0;34m/\u001b[0m\u001b[0mresultado\u001b[0m\u001b[0;34m.\u001b[0m\u001b[0mget_fitness\u001b[0m\u001b[0;34m(\u001b[0m\u001b[0;34m)\u001b[0m\u001b[0;34m)\u001b[0m\u001b[0;34m\u001b[0m\u001b[0;34m\u001b[0m\u001b[0m\n\u001b[1;32m     31\u001b[0m \u001b[0mresultado\u001b[0m\u001b[0;34m.\u001b[0m\u001b[0mplot_ind\u001b[0m\u001b[0;34m(\u001b[0m\u001b[0;34m)\u001b[0m\u001b[0;34m\u001b[0m\u001b[0;34m\u001b[0m\u001b[0m\n",
            "\u001b[0;32m<ipython-input-145-7c039e5fe32a>\u001b[0m in \u001b[0;36mga\u001b[0;34m(selection, crossover, mutation)\u001b[0m\n\u001b[1;32m      7\u001b[0m     \u001b[0;32mwhile\u001b[0m \u001b[0mlen\u001b[0m\u001b[0;34m(\u001b[0m\u001b[0maux_pop\u001b[0m\u001b[0;34m)\u001b[0m \u001b[0;34m<\u001b[0m \u001b[0;36m1\u001b[0m\u001b[0;34m:\u001b[0m\u001b[0;34m\u001b[0m\u001b[0;34m\u001b[0m\u001b[0m\n\u001b[1;32m      8\u001b[0m       \u001b[0;34m[\u001b[0m\u001b[0mparent1\u001b[0m\u001b[0;34m,\u001b[0m \u001b[0mparent2\u001b[0m\u001b[0;34m]\u001b[0m \u001b[0;34m=\u001b[0m \u001b[0mselection_operator\u001b[0m\u001b[0;34m[\u001b[0m\u001b[0mselection\u001b[0m\u001b[0;34m]\u001b[0m\u001b[0;34m(\u001b[0m\u001b[0mpopulation\u001b[0m\u001b[0;34m.\u001b[0m\u001b[0mpop\u001b[0m\u001b[0;34m)\u001b[0m\u001b[0;34m\u001b[0m\u001b[0;34m\u001b[0m\u001b[0m\n\u001b[0;32m----> 9\u001b[0;31m       \u001b[0moffspring\u001b[0m \u001b[0;34m=\u001b[0m \u001b[0mcrossover_operator\u001b[0m\u001b[0;34m[\u001b[0m\u001b[0mcrossover\u001b[0m\u001b[0;34m]\u001b[0m\u001b[0;34m(\u001b[0m\u001b[0mparent1\u001b[0m\u001b[0;34m,\u001b[0m \u001b[0mparent2\u001b[0m\u001b[0;34m)\u001b[0m\u001b[0;34m\u001b[0m\u001b[0;34m\u001b[0m\u001b[0m\n\u001b[0m\u001b[1;32m     10\u001b[0m       \u001b[0;31m# print('---------------parent1---------------')\u001b[0m\u001b[0;34m\u001b[0m\u001b[0;34m\u001b[0m\u001b[0;34m\u001b[0m\u001b[0m\n\u001b[1;32m     11\u001b[0m       \u001b[0;31m# parent1.print_ind()\u001b[0m\u001b[0;34m\u001b[0m\u001b[0;34m\u001b[0m\u001b[0;34m\u001b[0m\u001b[0m\n",
            "\u001b[0;32m<ipython-input-144-2cecdfb93c0a>\u001b[0m in \u001b[0;36mox_crossover\u001b[0;34m(parent1, parent2)\u001b[0m\n\u001b[1;32m     20\u001b[0m     \u001b[0mproto_child\u001b[0m\u001b[0;34m.\u001b[0m\u001b[0mappend\u001b[0m\u001b[0;34m(\u001b[0m\u001b[0mk\u001b[0m\u001b[0;34m)\u001b[0m\u001b[0;34m\u001b[0m\u001b[0;34m\u001b[0m\u001b[0m\n\u001b[1;32m     21\u001b[0m   \u001b[0;32mwhile\u001b[0m \u001b[0mlen\u001b[0m\u001b[0;34m(\u001b[0m\u001b[0mproto_child\u001b[0m\u001b[0;34m)\u001b[0m \u001b[0;34m<\u001b[0m \u001b[0mlen\u001b[0m\u001b[0;34m(\u001b[0m\u001b[0mparent2\u001b[0m\u001b[0;34m)\u001b[0m\u001b[0;34m:\u001b[0m\u001b[0;34m\u001b[0m\u001b[0;34m\u001b[0m\u001b[0m\n\u001b[0;32m---> 22\u001b[0;31m     \u001b[0;32mif\u001b[0m \u001b[0;32mnot\u001b[0m \u001b[0mcontains\u001b[0m\u001b[0;34m(\u001b[0m\u001b[0mproto_child\u001b[0m\u001b[0;34m,\u001b[0m \u001b[0mparent2\u001b[0m\u001b[0;34m[\u001b[0m\u001b[0mi\u001b[0m\u001b[0;34m]\u001b[0m\u001b[0;34m)\u001b[0m\u001b[0;34m:\u001b[0m\u001b[0;34m\u001b[0m\u001b[0;34m\u001b[0m\u001b[0m\n\u001b[0m\u001b[1;32m     23\u001b[0m       \u001b[0mproto_child\u001b[0m\u001b[0;34m.\u001b[0m\u001b[0mappend\u001b[0m\u001b[0;34m(\u001b[0m\u001b[0mparent2\u001b[0m\u001b[0;34m[\u001b[0m\u001b[0mi\u001b[0m\u001b[0;34m]\u001b[0m\u001b[0;34m)\u001b[0m\u001b[0;34m\u001b[0m\u001b[0;34m\u001b[0m\u001b[0m\n\u001b[1;32m     24\u001b[0m     \u001b[0mi\u001b[0m \u001b[0;34m+=\u001b[0m \u001b[0;36m1\u001b[0m\u001b[0;34m\u001b[0m\u001b[0;34m\u001b[0m\u001b[0m\n",
            "\u001b[0;31mIndexError\u001b[0m: list index out of range"
          ]
        }
      ]
    }
  ]
}