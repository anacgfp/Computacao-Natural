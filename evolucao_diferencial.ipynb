{
  "nbformat": 4,
  "nbformat_minor": 0,
  "metadata": {
    "colab": {
      "name": "evolucao-diferencial.ipynb",
      "provenance": [],
      "collapsed_sections": [],
      "authorship_tag": "ABX9TyNrdJhvvdEPEpibhxKo0K2D",
      "include_colab_link": true
    },
    "kernelspec": {
      "name": "python3",
      "display_name": "Python 3"
    }
  },
  "cells": [
    {
      "cell_type": "markdown",
      "metadata": {
        "id": "view-in-github",
        "colab_type": "text"
      },
      "source": [
        "<a href=\"https://colab.research.google.com/github/anacgfp/Computacao-Natural/blob/master/evolucao_diferencial.ipynb\" target=\"_parent\"><img src=\"https://colab.research.google.com/assets/colab-badge.svg\" alt=\"Open In Colab\"/></a>"
      ]
    },
    {
      "cell_type": "code",
      "metadata": {
        "id": "pzI9D3CxhdM5"
      },
      "source": [
        "import math\n",
        "import matplotlib.pyplot as plt\n",
        "import random"
      ],
      "execution_count": null,
      "outputs": []
    },
    {
      "cell_type": "code",
      "metadata": {
        "id": "nHH7kqk3h3Ys"
      },
      "source": [
        "#Código aproveitado da monitoria :)\n",
        "import sys\n",
        "import math\n",
        "\n",
        "# Função que calcula o valor da função objetivo\n",
        "def valor_objetivo(cromossomo):\n",
        "    total = 0\n",
        "    for i in range (len(cromossomo)):\n",
        "        total += (cromossomo[i]**2 - 10* math.cos(2 * (math.pi) * cromossomo[i]) + 10)\n",
        "    return total\n",
        "\n",
        "\n",
        "# Função que calcula a aptidão de uma solução (fitness)\n",
        "#qnto mais proximo de zero, melhor\n",
        "def aptidao(cromossomo):\n",
        "    temp = valor_objetivo(cromossomo)\n",
        "    if temp == 0:\n",
        "        return sys.maxsize\n",
        "    else:\n",
        "        return 1 / temp "
      ],
      "execution_count": null,
      "outputs": []
    },
    {
      "cell_type": "code",
      "metadata": {
        "id": "LL9puICXiC4U"
      },
      "source": [
        "#GERANDO OS INDIVIDUOS\n",
        "def gerar_individuo():\n",
        "  return [random.randint(-30, 30) for _ in range(0, D)] #parte aproveitada do código da monitoria\n",
        "\n",
        "#INICIALIZANDO A POP \n",
        "def init_pop():\n",
        "  pop = []\n",
        "  for _ in range(TAM_POP):\n",
        "    aux = gerar_individuo()\n",
        "    pop.append(aux)\n",
        "  return pop\n",
        "\n",
        "\n",
        "#FUNCAO QUE RETORNA O MELHOR INDIVIDUO\n",
        "def get_best(pop):\n",
        "  best = pop[0]\n",
        "  for i in range(TAM_POP):\n",
        "    if aptidao(pop[i]) > aptidao(best):\n",
        "      best = pop[i]\n",
        "  return best"
      ],
      "execution_count": null,
      "outputs": []
    },
    {
      "cell_type": "code",
      "metadata": {
        "id": "T58_AtZqjyzH"
      },
      "source": [
        "#MUTACAO \n",
        "def mutacao(ind_1, ind_2, ind_3, F):\n",
        "    novo_cromossomo = [ind_1[i] + F * (ind_3[i] - ind_2[i]) for i in range(0, len(ind_1))]        \n",
        "    return novo_cromossomo"
      ],
      "execution_count": null,
      "outputs": []
    },
    {
      "cell_type": "code",
      "metadata": {
        "id": "6zX4tpsmjz3_"
      },
      "source": [
        "#CROSSOVER\n",
        "def cruzamento(ind_mutante, ind_original, CR):\n",
        "  resultado = []\n",
        "  i = 0\n",
        "  while i < len(ind_mutante):\n",
        "    r = random.random()\n",
        "    if r <= CR:\n",
        "      resultado.append(ind_mutante[i])\n",
        "    else:\n",
        "      resultado.append(ind_original[i])\n",
        "    i += 1\n",
        "\n",
        "  return resultado\n"
      ],
      "execution_count": null,
      "outputs": []
    },
    {
      "cell_type": "code",
      "metadata": {
        "id": "hykeUsnkj0sV"
      },
      "source": [
        "#codigo reutilizado da monitoria :)\n",
        "def gerar_descendente(ind_1, ind_2, ind_3, ind_original, F, CR):\n",
        "    mutante = mutacao(ind_1,ind_2,ind_3, F)\n",
        "    novo_ind = cruzamento(mutante, ind_original, CR)\n",
        "    return novo_ind\n",
        "\n",
        "def reproducao(populacao, F, CR):\n",
        "  descendentes = []\n",
        "  aux = []\n",
        "  #gera os descendentes\n",
        "  for i in range(0, TAM_POP):\n",
        "    [ind_1, ind_2, ind_3] = random.choices(populacao, k=3) #escolha aleatória\n",
        "    desc = gerar_descendente(ind_1, ind_2,ind_3,populacao[i], F, CR)\n",
        "    aux.append(desc)\n",
        "\n",
        "  #operador guloso\n",
        "\n",
        "  for i in range(0, TAM_POP):\n",
        "    if aptidao(populacao[i]) > aptidao(aux[i]):\n",
        "      descendentes.append(populacao[i])\n",
        "    else:\n",
        "      descendentes.append(aux[i])\n",
        "  return descendentes"
      ],
      "execution_count": null,
      "outputs": []
    },
    {
      "cell_type": "code",
      "metadata": {
        "id": "z0aJR0q5CcU_"
      },
      "source": [
        "def plotar_grafico(fitness, F, CR):\n",
        "  x = []\n",
        "  y = []\n",
        "  for i in range(len(fitness)):\n",
        "    x.append(i)\n",
        "    y.append(fitness[i])\n",
        "  plt.plot(x, y)\n",
        "  plt.title('Gráf. de Convergência: F: ' + str(F) + ' CR: ' + str(CR))\n",
        "  plt.show()"
      ],
      "execution_count": null,
      "outputs": []
    },
    {
      "cell_type": "code",
      "metadata": {
        "id": "0L5ThVQeJmVz",
        "outputId": "3a1366e3-8373-4a95-a14d-f1894cec6107",
        "colab": {
          "base_uri": "https://localhost:8080/",
          "height": 1000
        }
      },
      "source": [
        "def de(F = 0.5, CR = 0.5):\n",
        "  lista_de_fitness = []\n",
        "  pop = init_pop()\n",
        "  best = get_best(pop)\n",
        "  for i in range(GERACOES):\n",
        "    melhor_pop = get_best(pop)\n",
        "    if aptidao(melhor_pop) > aptidao(best):\n",
        "      best = melhor_pop\n",
        "    aux = reproducao(pop, F, CR)\n",
        "    pop = aux\n",
        "    lista_de_fitness.append(aptidao(best))\n",
        "    # print('Geração: ', i, ' - melhor objt: ', aptidao(best))\n",
        "  \n",
        "  plotar_grafico(lista_de_fitness, F, CR)\n",
        "  return best\n",
        "\n",
        "#----------------------------\n",
        "TAM_POP = 300\n",
        "GERACOES = 1000\n",
        "D = 30\n",
        "#----------------------------\n",
        "\n",
        "def teste(n = 1):\n",
        "\n",
        "  f_list = [0.04, 0.4]\n",
        "  cr_list = [0.04, 0.4]\n",
        "  best_combinacao = [-1, -1]\n",
        "  soma = 0\n",
        "  i = 0\n",
        "  while i < n:\n",
        "    pop = init_pop()\n",
        "    best = get_best(pop)\n",
        "    best_fit = aptidao(best)\n",
        "    for f in f_list:\n",
        "      for cr in cr_list:\n",
        "        aux = de(F = f, CR = cr)\n",
        "        aux_fit = aptidao(aux)\n",
        "        soma += aux_fit\n",
        "        if aux_fit > best_fit:\n",
        "          best = aux\n",
        "          best_fit = aux_fit\n",
        "          best_combinacao[0], best_combinacao[1] = f, cr\n",
        "    i += 1\n",
        "  print('best fitness: ',best_fit, ' f: ', best_combinacao[0], ' cr: ', best_combinacao[1] )\n",
        "  print('media: ', soma/n, ' ')\n",
        "  print(best)\n",
        "  return best\n",
        "\n",
        "b = teste()"
      ],
      "execution_count": null,
      "outputs": [
        {
          "output_type": "display_data",
          "data": {
            "image/png": "[encoded data removed]",
            "text/plain": [
              "<Figure size 432x288 with 1 Axes>"
            ]
          },
          "metadata": {
            "tags": [],
            "needs_background": "light"
          }
        },
        {
          "output_type": "display_data",
          "data": {
            "image/png": "[encoded data removed]",
            "text/plain": [
              "<Figure size 432x288 with 1 Axes>"
            ]
          },
          "metadata": {
            "tags": [],
            "needs_background": "light"
          }
        },
        {
          "output_type": "display_data",
          "data": {
            "image/png": "[encoded data removed]",
            "text/plain": [
              "<Figure size 432x288 with 1 Axes>"
            ]
          },
          "metadata": {
            "tags": [],
            "needs_background": "light"
          }
        },
        {
          "output_type": "display_data",
          "data": {
            "image/png": "[encoded data removed]",
            "text/plain": [
              "<Figure size 432x288 with 1 Axes>"
            ]
          },
          "metadata": {
            "tags": [],
            "needs_background": "light"
          }
        },
        {
          "output_type": "stream",
          "text": [
            "best fitness:  2172193274.559202  f:  0.04  cr:  0.04\n",
            "media:  2172193281.464855  \n",
            "[-8.998806379957198e-07, -1.2518241553311988e-07, 8.799070885669083e-08, -4.346505545958748e-07, -1.077682715962828e-07, 3.5895763499377937e-07, 2.2599081685670524e-07, 4.486849379061391e-07, -1.763595872834062e-07, -2.6577436613686585e-07, 1.8978220307227345e-07, 1.5579557385542566e-08, -4.6866158212838464e-08, 1.2730217683930672e-07, 1.8937734623191646e-07, 2.116209550533776e-07, 3.067662094901341e-08, -2.6420692951654873e-07, 1.734346381585327e-07, -3.126311700051421e-07, 2.7979435644776043e-07, 1.2379340284036532e-07, 5.02617005860805e-07, -1.0129903493773604e-07, 1.3170331408445172e-07, -2.530487013406619e-07, -8.79718973403291e-08, 2.4011529531795235e-08, -1.3830779146118073e-07, -6.759576240401783e-08]\n"
          ],
          "name": "stdout"
        }
      ]
    }
  ]
}